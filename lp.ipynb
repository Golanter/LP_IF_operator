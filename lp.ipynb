{
 "cells": [
  {
   "cell_type": "code",
   "execution_count": 95,
   "metadata": {},
   "outputs": [
    {
     "name": "stdout",
     "output_type": "stream",
     "text": [
      "['Box2', 'Product1', '1']: 1.0\n",
      "['Box2', 'Product1', '2']: 1.0\n",
      "['Box2', 'Product1', '3']: 1.0\n",
      "['Box2', 'Product2', '1']: 1.0\n",
      "['Box2', 'Product2', '2']: 1.0\n",
      "['Box2', 'Product2', '3']: 1.0\n",
      "['Box2', 'Product2', '4']: 1.0\n",
      "['Box2', 'Product4', '1']: 1.0\n",
      "['Box2', 'Product4', '2']: 1.0\n",
      "['Box2', 'Product5', '1']: 1.0\n",
      "['Box2', 'Product5', '2']: 1.0\n",
      "['Box2', 'Product5', '3']: 1.0\n",
      "['Box2', 'Product5', '4']: 1.0\n",
      "['Box2', 'box', 'flag']: 1.0\n"
     ]
    }
   ],
   "source": [
    "import pandas as pd\n",
    "import numpy as np\n",
    "\n",
    "VarMatrixForm = pd.read_excel(r'Source.xlsx', sheet_name='VarMatrix') # Получаем форму матрицы переменных\n",
    "ProfitabilityMatrix = pd.read_excel(r'Source.xlsx', sheet_name='Profit_decay') # Получаем параметры прибыльности по каждой единице товара\n",
    "VolumeMatrix = pd.read_excel(r'Source.xlsx', sheet_name='Volume') # Получаем данные об объеме каждой единицы товара\n",
    "Boxes_param = pd.read_excel(r'Source.xlsx', sheet_name='Boxes_param') # Получаем данные о возможной вместимости коробок и цене отправки\n",
    "\n",
    "np_Box = Boxes_param['Box']\n",
    "np_ProfitabilityMatrix = np.array(ProfitabilityMatrix)\n",
    "np_VolumeMatrix = np.array(VolumeMatrix)\n",
    "np_Boxes_param = np.array(Boxes_param)\n",
    "\n",
    "import pulp as pl\n",
    "model = pl.LpProblem(\"Send_plan\", pl.LpMaximize)\n",
    "\n",
    "variables = pl.LpVariable.matrix('LPmodel', (np_Box, VarMatrixForm.keys().values), 0, 1, cat='Integer') # формируем матрицу переменных (строки - коробки, столбцы - товары, первый столбец в каждой строке - переменная-флаг), область допустимых значений - 0 или 1\n",
    "VarMatrix = np.array(variables).reshape((VarMatrixForm.shape[0]), (VarMatrixForm.shape[1])) # Преобразуем в форму Boxes * Products\n",
    "\n",
    "objective = pl.lpSum(VarMatrix[:,1:] * np_ProfitabilityMatrix) - VarMatrix[:,:1] * np_Boxes_param[:,1].reshape(2,1) # целевая функция\n",
    "\n",
    "model += objective\n",
    "\n",
    "# limit volume for boxes\n",
    "for i in range(int(np_Boxes_param.shape[0])):\n",
    "    model += pl.lpSum(VarMatrix[i, 1:] * np_VolumeMatrix) <= np_Boxes_param[i][2] # Сумма объемов товаров в коробке должна быть не больше вместимости коробки\n",
    "\n",
    "# we can send one product only\n",
    "for j in range(1, VarMatrix.shape[1]): # почему \"бежим\" по колонкам, начиная с 1, а не с 0 - т.к. в столбце 0 у нас хранятся переменные - флаги для коробок\n",
    "    model += pl.lpSum(VarMatrix[:,j]) <= 1.0 # нельзя один товар положить сразу в две коробки\n",
    "\n",
    "# flag var\n",
    "for i in range(VarMatrix.shape[0]):\n",
    "    for j in range(1, VarMatrix.shape[1]):\n",
    "        model += VarMatrix[i][j] <= VarMatrix[i][0] \n",
    "\n",
    "       \n",
    "model.solve(pl.PULP_CBC_CMD( msg = True))\n",
    "\n",
    "Solution = pd.DataFrame()\n",
    "if any((v.varValue or 0) < 0 for v in model.variables()) is False:\n",
    "    for v in model.variables():\n",
    "        if not v.varValue:\n",
    "            continue\n",
    "        name = v.name.replace('LPmodel_', '').split('_')\n",
    "        qty = v.varValue\n",
    "        print(f'{name}: {qty}')\n",
    "            "
   ]
  }
 ],
 "metadata": {
  "kernelspec": {
   "display_name": "Python 3",
   "language": "python",
   "name": "python3"
  },
  "language_info": {
   "codemirror_mode": {
    "name": "ipython",
    "version": 3
   },
   "file_extension": ".py",
   "mimetype": "text/x-python",
   "name": "python",
   "nbconvert_exporter": "python",
   "pygments_lexer": "ipython3",
   "version": "3.10.2"
  },
  "orig_nbformat": 4,
  "vscode": {
   "interpreter": {
    "hash": "afe8af82fd093e00cee62e8c810157fa000d8fac19c917f5a32caa2b564c22de"
   }
  }
 },
 "nbformat": 4,
 "nbformat_minor": 2
}
